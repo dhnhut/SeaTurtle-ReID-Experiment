{
 "cells": [
  {
   "cell_type": "markdown",
   "metadata": {},
   "source": [
    "# SeaTurtle Re-ID: Getting Started\n",
    "\n",
    "This notebook provides a quick introduction to the SeaTurtle Re-Identification project setup and basic usage.\n",
    "\n",
    "## 🎯 Objectives\n",
    "- Verify installation and setup\n",
    "- Load and explore sample data\n",
    "- Understand the project structure\n",
    "- Run a basic example"
   ]
  },
  {
   "cell_type": "markdown",
   "metadata": {},
   "source": [
    "## 📦 Import Libraries\n",
    "\n",
    "First, let's import the necessary libraries and verify they're working correctly."
   ]
  },
  {
   "cell_type": "code",
   "execution_count": null,
   "metadata": {},
   "outputs": [],
   "source": [
    "# Core libraries\n",
    "import numpy as np\n",
    "import pandas as pd\n",
    "import matplotlib.pyplot as plt\n",
    "import seaborn as sns\n",
    "\n",
    "# Computer vision\n",
    "import cv2\n",
    "from PIL import Image\n",
    "\n",
    "# Deep learning\n",
    "import torch\n",
    "import torchvision\n",
    "from torchvision import transforms\n",
    "\n",
    "# Utilities\n",
    "import os\n",
    "import sys\n",
    "from pathlib import Path\n",
    "\n",
    "print(\"✅ All libraries imported successfully!\")\n",
    "print(f\"📊 NumPy version: {np.__version__}\")\n",
    "print(f\"🐼 Pandas version: {pd.__version__}\")\n",
    "print(f\"🔥 PyTorch version: {torch.__version__}\")\n",
    "print(f\"👁️ OpenCV version: {cv2.__version__}\")"
   ]
  },
  {
   "cell_type": "markdown",
   "metadata": {},
   "source": [
    "## 🗂️ Project Structure\n",
    "\n",
    "Let's explore the project directory structure:"
   ]
  },
  {
   "cell_type": "code",
   "execution_count": null,
   "metadata": {},
   "outputs": [],
   "source": [
    "# Navigate to project root\n",
    "project_root = Path('..')\n",
    "print(f\"📁 Project root: {project_root.absolute()}\")\n",
    "print(\"\\n📂 Directory structure:\")\n",
    "\n",
    "for item in sorted(project_root.iterdir()):\n",
    "    if item.is_dir() and not item.name.startswith('.'):\n",
    "        print(f\"  📁 {item.name}/\")\n",
    "        # Show subdirectories for key folders\n",
    "        if item.name in ['notebooks', 'data', 'utils']:\n",
    "            for subitem in sorted(item.iterdir()):\n",
    "                if subitem.is_dir():\n",
    "                    print(f\"    📁 {subitem.name}/\")\n",
    "                elif subitem.suffix in ['.py', '.md']:\n",
    "                    print(f\"    📄 {subitem.name}\")\n",
    "    elif item.is_file() and item.suffix in ['.md', '.txt', '.yml', '.py']:\n",
    "        print(f\"  📄 {item.name}\")"
   ]
  },
  {
   "cell_type": "markdown",
   "metadata": {},
   "source": [
    "## 🔧 Environment Check\n",
    "\n",
    "Let's verify that our environment is set up correctly:"
   ]
  },
  {
   "cell_type": "code",
   "execution_count": null,
   "metadata": {},
   "outputs": [],
   "source": [
    "# Check if CUDA is available\n",
    "print(f\"🖥️ CUDA available: {torch.cuda.is_available()}\")\n",
    "if torch.cuda.is_available():\n",
    "    print(f\"🎮 GPU device: {torch.cuda.get_device_name(0)}\")\n",
    "    print(f\"💾 GPU memory: {torch.cuda.get_device_properties(0).total_memory / 1e9:.1f} GB\")\n",
    "else:\n",
    "    print(\"⚠️ Running on CPU - consider using GPU for deep learning experiments\")\n",
    "\n",
    "# Check available RAM\n",
    "import psutil\n",
    "memory = psutil.virtual_memory()\n",
    "print(f\"🧠 Available RAM: {memory.available / 1e9:.1f} GB / {memory.total / 1e9:.1f} GB\")"
   ]
  },
  {
   "cell_type": "markdown",
   "metadata": {},
   "source": [
    "## 🎨 Sample Visualization\n",
    "\n",
    "Let's create a sample visualization to test our plotting capabilities:"
   ]
  },
  {
   "cell_type": "code",
   "execution_count": null,
   "metadata": {},
   "outputs": [],
   "source": [
    "# Create a sample plot\n",
    "plt.figure(figsize=(12, 4))\n",
    "\n",
    "# Sample data representing re-identification accuracy over epochs\n",
    "epochs = np.arange(1, 51)\n",
    "train_acc = 0.5 + 0.4 * (1 - np.exp(-epochs/10)) + 0.02 * np.random.randn(50)\n",
    "val_acc = 0.5 + 0.35 * (1 - np.exp(-epochs/12)) + 0.03 * np.random.randn(50)\n",
    "\n",
    "plt.subplot(1, 2, 1)\n",
    "plt.plot(epochs, train_acc, label='Training Accuracy', linewidth=2)\n",
    "plt.plot(epochs, val_acc, label='Validation Accuracy', linewidth=2)\n",
    "plt.xlabel('Epochs')\n",
    "plt.ylabel('Accuracy')\n",
    "plt.title('Re-ID Model Training Progress')\n",
    "plt.legend()\n",
    "plt.grid(True, alpha=0.3)\n",
    "\n",
    "# Sample confusion matrix\n",
    "plt.subplot(1, 2, 2)\n",
    "confusion_matrix = np.random.rand(5, 5)\n",
    "confusion_matrix = confusion_matrix / confusion_matrix.sum(axis=1, keepdims=True)\n",
    "sns.heatmap(confusion_matrix, annot=True, fmt='.2f', cmap='Blues',\n",
    "            xticklabels=[f'ID_{i}' for i in range(5)],\n",
    "            yticklabels=[f'ID_{i}' for i in range(5)])\n",
    "plt.title('Sample Identity Confusion Matrix')\n",
    "plt.ylabel('True Identity')\n",
    "plt.xlabel('Predicted Identity')\n",
    "\n",
    "plt.tight_layout()\n",
    "plt.show()\n",
    "\n",
    "print(\"✅ Visualization test successful!\")"
   ]
  },
  {
   "cell_type": "markdown",
   "metadata": {},
   "source": [
    "## 🚀 Next Steps\n",
    "\n",
    "Now that your environment is set up, you can:\n",
    "\n",
    "1. **📊 Explore Data**: Start with notebooks in `01_data_exploration/`\n",
    "2. **🔧 Preprocess**: Use `02_preprocessing/` notebooks for data preparation\n",
    "3. **🏗️ Build Models**: Implement baselines in `03_baseline_models/`\n",
    "4. **🧠 Advanced Methods**: Experiment in `04_advanced_models/`\n",
    "5. **📈 Evaluate**: Compare results in `05_evaluation/`\n",
    "\n",
    "### 📋 Checklist for Starting Your Project:\n",
    "\n",
    "- [ ] Add your sea turtle dataset to `data/raw/`\n",
    "- [ ] Create data exploration notebook\n",
    "- [ ] Implement data preprocessing pipeline\n",
    "- [ ] Set up baseline re-identification model\n",
    "- [ ] Define evaluation metrics\n",
    "- [ ] Document your experiments\n",
    "\n",
    "### 💡 Tips:\n",
    "\n",
    "- Use descriptive notebook names with numerical prefixes\n",
    "- Document your methodology in markdown cells\n",
    "- Save intermediate results and model checkpoints\n",
    "- Use version control for your notebooks\n",
    "- Create utility functions in the `utils/` directory\n",
    "\n",
    "Happy experimenting! 🐢🔬"
   ]
  }
 ],
 "metadata": {
  "kernelspec": {
   "display_name": "Python 3",
   "language": "python",
   "name": "python3"
  },
  "language_info": {
   "codemirror_mode": {
    "name": "ipython",
    "version": 3
   },
   "file_extension": ".py",
   "mimetype": "text/x-python",
   "name": "python",
   "nbconvert_exporter": "python",
   "pygments_lexer": "ipython3",
   "version": "3.9.0"
  }
 },
 "nbformat": 4,
 "nbformat_minor": 4
}